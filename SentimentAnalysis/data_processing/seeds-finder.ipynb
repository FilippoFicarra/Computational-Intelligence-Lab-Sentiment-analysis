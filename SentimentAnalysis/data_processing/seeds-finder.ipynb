{
 "cells": [
  {
   "cell_type": "markdown",
   "source": [
    "# Seed words finder for PMI score computation\n",
    "Disclaymer: To run this notebook, launch pyspark (command \"pyspark --master local[*number of cores*]\") from the folder containing the notebook."
   ],
   "metadata": {
    "collapsed": false
   }
  },
  {
   "cell_type": "code",
   "execution_count": 1,
   "outputs": [],
   "source": [
    "from pyspark.sql import SparkSession\n",
    "from utility_functions import *\n",
    "import os"
   ],
   "metadata": {
    "collapsed": false,
    "ExecuteTime": {
     "end_time": "2023-07-25T08:52:50.374388900Z",
     "start_time": "2023-07-25T08:52:46.516163200Z"
    }
   }
  },
  {
   "cell_type": "code",
   "execution_count": 2,
   "outputs": [],
   "source": [
    "# Create spark session\n",
    "spark = SparkSession.builder \\\n",
    "    .config(\"spark.executor.memory\", \"32g\") \\\n",
    "    .config(\"spark.driver.memory\", \"32g\") \\\n",
    "    .config(\"spark.network.timeout\", \"1200s\") \\\n",
    "    .config(\"spark.executor.memoryOverhead\", \"12g\")\\\n",
    "    .config(\"spark.executor.heartbeatInterval\", \"1200s\")\\\n",
    "    .config(\"spark.executor.extraJavaOptions\", \"-Xmx32g -Xms12g\") \\\n",
    "    .getOrCreate()"
   ],
   "metadata": {
    "collapsed": false,
    "ExecuteTime": {
     "end_time": "2023-07-25T08:52:52.527021100Z",
     "start_time": "2023-07-25T08:52:52.506023300Z"
    }
   }
  },
  {
   "cell_type": "code",
   "execution_count": 3,
   "outputs": [],
   "source": [
    "# Get directory\n",
    "directory = os.path.dirname(os.getcwd()).replace(\"\\\\\", \"/\")\n",
    "\n",
    "# Define paths\n",
    "# path = directory + \"/data/datasets/amazon-cleaned-no-unknown.json\"\n",
    "# path_csv = directory + \"/data/sentiment-knowledge/amazon-words-seed-score.csv\"\n",
    "# Path twitter\n",
    "path = directory + \"/data/datasets/twitter.json\"\n",
    "path_csv = directory + \"/data/sentiment-knowledge/twitter-words-seed-score.csv\""
   ],
   "metadata": {
    "collapsed": false,
    "ExecuteTime": {
     "end_time": "2023-07-25T08:52:53.344261300Z",
     "start_time": "2023-07-25T08:52:53.333264Z"
    }
   }
  },
  {
   "cell_type": "code",
   "execution_count": 4,
   "outputs": [],
   "source": [
    "# Load dataset\n",
    "dataset = spark.read.json(path, schema=SCHEMA)"
   ],
   "metadata": {
    "collapsed": false,
    "ExecuteTime": {
     "end_time": "2023-07-25T08:52:56.800489400Z",
     "start_time": "2023-07-25T08:52:55.064051Z"
    }
   }
  },
  {
   "cell_type": "code",
   "execution_count": 5,
   "outputs": [],
   "source": [
    "save_list_to_csv(dataset.rdd.flatMap(lambda obj: [(word, calculate_polarity_of_occurrence(obj[\"label\"])) for word in tokenize_with_sequences(remove_symbols_before_tokenization(obj[\"text\"]))])\\\n",
    "            .reduceByKey(lambda x, y: x + y).sortBy(lambda x: x[1]).collect(), path_csv, [\"word\", \"score\"])"
   ],
   "metadata": {
    "collapsed": false,
    "ExecuteTime": {
     "end_time": "2023-07-25T08:54:07.086592700Z",
     "start_time": "2023-07-25T08:53:02.787421200Z"
    }
   }
  }
 ],
 "metadata": {
  "kernelspec": {
   "display_name": "Python 3",
   "language": "python",
   "name": "python3"
  },
  "language_info": {
   "codemirror_mode": {
    "name": "ipython",
    "version": 2
   },
   "file_extension": ".py",
   "mimetype": "text/x-python",
   "name": "python",
   "nbconvert_exporter": "python",
   "pygments_lexer": "ipython2",
   "version": "2.7.6"
  }
 },
 "nbformat": 4,
 "nbformat_minor": 0
}
