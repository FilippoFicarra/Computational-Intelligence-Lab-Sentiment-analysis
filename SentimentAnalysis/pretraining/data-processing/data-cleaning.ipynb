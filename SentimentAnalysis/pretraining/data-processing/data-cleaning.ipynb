{
 "cells": [
  {
   "cell_type": "markdown",
   "source": [
    "# Data cleaner\n",
    "Disclaymer: To run this notebook, launch pyspark (command \"pyspark --master local[*number of cores*]\") from the folder containing the notebook."
   ],
   "metadata": {
    "collapsed": false
   }
  },
  {
   "cell_type": "code",
   "execution_count": null,
   "outputs": [],
   "source": [
    "from pyspark.sql import SparkSession\n",
    "from utility_functions import *\n",
    "from flashtext import KeywordProcessor"
   ],
   "metadata": {
    "collapsed": false
   }
  },
  {
   "cell_type": "code",
   "execution_count": null,
   "outputs": [],
   "source": [
    "# Get directory\n",
    "directory = os.path.dirname(os.getcwd()).replace(\"\\\\\", \"/\")\n",
    "\n",
    "# Define paths\n",
    "path = directory + \"/data/datasets/dataset.json\"\n",
    "path_cleaned = directory + \"/data/datasets/dataset-cleaned.json\"\n",
    "path_cleaned_directory = directory + \"/data/datasets/dataset-cleaned\"\n",
    "path_cleaned_unknown = directory + \"/data/datasets/dataset-cleaned-no-unknown.json\"\n",
    "path_cleaned_unknown_directory = directory + \"/data/datasets/dataset-cleaned-no-unknown\""
   ],
   "metadata": {
    "collapsed": false
   }
  },
  {
   "cell_type": "code",
   "execution_count": null,
   "outputs": [],
   "source": [
    "spark = SparkSession.builder \\\n",
    "    .config(\"spark.executor.memory\", \"32g\") \\\n",
    "    .config(\"spark.driver.memory\", \"32g\") \\\n",
    "    .config(\"spark.network.timeout\", \"1200s\") \\\n",
    "    .config(\"spark.executor.memoryOverhead\", \"12g\")\\\n",
    "    .config(\"spark.executor.heartbeatInterval\", \"1200s\")\\\n",
    "    .config(\"spark.executor.extraJavaOptions\", \"-Xmx32g -Xms12g\") \\\n",
    "    .getOrCreate()"
   ],
   "metadata": {
    "collapsed": false
   }
  },
  {
   "cell_type": "code",
   "execution_count": null,
   "outputs": [],
   "source": [
    "# Load dataset\n",
    "dataset = spark.read.json(path)\n",
    "\n",
    "# Split rdd into multiple rdds\n",
    "split_rdds = dataset.randomSplit([0.1 for _ in range(0,10)])"
   ],
   "metadata": {
    "collapsed": false
   }
  },
  {
   "cell_type": "code",
   "execution_count": null,
   "outputs": [],
   "source": [
    "# Create rdd of cleaned text\n",
    "cleaned_rdds = []\n",
    "\n",
    "for df in split_rdds:\n",
    "    cleaned_rdds.append(\n",
    "        df.rdd.map(lambda obj: {\"overall\": obj[\"overall\"], \"reviewText\": obj[\"reviewText\"].lower()})\n",
    "            .filter(lambda obj: \"old review\" not in obj[\"reviewText\"]) # Remove objects containing \"old review\"\n",
    "            .map(lambda obj: {\"overall\": obj[\"overall\"], \"reviewText\": cleaning_function_no_unknown(obj[\"reviewText\"])}) # Clean\n",
    "    )"
   ],
   "metadata": {
    "collapsed": false
   }
  },
  {
   "cell_type": "code",
   "execution_count": null,
   "outputs": [],
   "source": [
    "# Save cleaned dataset with unknown words\n",
    "for i in range(0, len(cleaned_rdds)):\n",
    "    save_rdd_to_json_file(path_cleaned_directory + \"/cleaned\" + f\"{i}\", cleaned_rdds[i])\n",
    "\n",
    "# Create dataset from files\n",
    "merge_files(path_cleaned_directory, path_cleaned)"
   ],
   "metadata": {
    "collapsed": false
   }
  },
  {
   "cell_type": "code",
   "execution_count": null,
   "outputs": [],
   "source": [
    "# Load cleaned dataset\n",
    "dataset_cleaned = spark.read.json(path_cleaned)\n",
    "\n",
    "# Split rdd into multiple rdds\n",
    "split_rdds_cleaned = dataset_cleaned.randomSplit([0.1 for _ in range(0,10)])"
   ],
   "metadata": {
    "collapsed": false
   }
  },
  {
   "cell_type": "code",
   "execution_count": null,
   "outputs": [],
   "source": [
    "# Compute list of words with number of occurrences\n",
    "words_occurrences_rdds = []\n",
    "\n",
    "for df in split_rdds_cleaned:\n",
    "    words_occurrences_rdds.append(\n",
    "        df.rdd.flatMap(lambda obj: [(word, 1) for word in tokenize_with_sequences(remove_symbols_before_tokenization(obj[\"reviewText\"]))]) # Tokenize\n",
    "            .reduceByKey(lambda x, y: x + y) # Add occurrences\n",
    "    )"
   ],
   "metadata": {
    "collapsed": false
   }
  },
  {
   "cell_type": "code",
   "execution_count": null,
   "outputs": [],
   "source": [
    "# Merge rdds, then reduce by key to obtain final vocabulary with number of occurreces\n",
    "merged_rdd_occurrences = words_occurrences_rdds[0].union(words_occurrences_rdds[1])\n",
    "\n",
    "for i in range(2, len(words_occurrences_rdds)):\n",
    "    merged_rdd_occurrences = merged_rdd_occurrences.union(words_occurrences_rdds[i])\n",
    "\n",
    "words_with_occurrences = merged_rdd_occurrences.reduceByKey(lambda x, y: x + y).collect()"
   ],
   "metadata": {
    "collapsed": false
   }
  },
  {
   "cell_type": "code",
   "execution_count": null,
   "outputs": [],
   "source": [
    "# Process list of words with occurrences\n",
    "count_unknown = 0\n",
    "count_frequent = 0\n",
    "frequent_words = []\n",
    "unknown_words = []\n",
    "for word in sorted(words_with_occurrences, key=lambda x: x[1]):\n",
    "    if word[1] <= 10:\n",
    "        count_unknown += word[1]\n",
    "        unknown_words.append(word[0])\n",
    "    else:\n",
    "        count_frequent += word[1]\n",
    "        frequent_words.append(word)\n",
    "\n",
    "# Print percentage of retained words\n",
    "print(f\"The percentage of retained words is {(count_frequent * 100)/(count_frequent + count_unknown)}\")\n",
    "\n",
    "# Append unknown\n",
    "frequent_words.append(('[UNKNOWN]', count_unknown))\n",
    "\n",
    "# Create keyword processor for later use\n",
    "kp = KeywordProcessor()\n",
    "for word in unknown_words:\n",
    "    kp.add_keyword(word, '[UNKNOWN]')\n",
    "\n",
    "# Save dataframe with occurrences of known words for later use\n",
    "path_all_occurrences = \"data/sentiment-knowledge/all-words-with-occurrences.csv\"\n",
    "save_list_to_csv(sorted(frequent_words, key=lambda x: x[1]), path_all_occurrences, [\"word\", \"occurrences\"])"
   ],
   "metadata": {
    "collapsed": false
   }
  },
  {
   "cell_type": "code",
   "execution_count": null,
   "outputs": [],
   "source": [
    "# Create rdd of cleaned text without unknown words\n",
    "cleaned_no_unknown_rdds = []\n",
    "\n",
    "for df in split_rdds_cleaned:\n",
    "    cleaned_no_unknown_rdds.append(\n",
    "        df.rdd.map(lambda obj: {\"overall\": obj[\"overall\"], \"reviewText\": kp.replace_keywords(obj[\"reviewText\"])}) # Remove unknown\n",
    "    )"
   ],
   "metadata": {
    "collapsed": false
   }
  },
  {
   "cell_type": "code",
   "execution_count": null,
   "outputs": [],
   "source": [
    "# Save cleaned dataset with unknown words\n",
    "for i in range(0, len(cleaned_no_unknown_rdds)):\n",
    "    save_rdd_to_json_file(path_cleaned_unknown_directory + \"/cleaned\" + f\"{i}\", cleaned_no_unknown_rdds[i])\n",
    "\n",
    "# Create dataset from files\n",
    "merge_files(path_cleaned_unknown_directory, path_cleaned_unknown)"
   ],
   "metadata": {
    "collapsed": false
   }
  }
 ],
 "metadata": {
  "kernelspec": {
   "display_name": "Python 3",
   "language": "python",
   "name": "python3"
  },
  "language_info": {
   "codemirror_mode": {
    "name": "ipython",
    "version": 2
   },
   "file_extension": ".py",
   "mimetype": "text/x-python",
   "name": "python",
   "nbconvert_exporter": "python",
   "pygments_lexer": "ipython2",
   "version": "2.7.6"
  }
 },
 "nbformat": 4,
 "nbformat_minor": 0
}
