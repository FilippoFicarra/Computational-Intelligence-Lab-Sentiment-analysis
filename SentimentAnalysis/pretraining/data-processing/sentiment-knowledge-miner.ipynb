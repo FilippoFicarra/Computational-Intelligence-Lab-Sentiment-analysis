{
 "cells": [
  {
   "cell_type": "markdown",
   "source": [
    "# Sentiment knowledge miner for polarity computation\n",
    "Disclaymer: To run this notebook, launch pyspark (command \"pyspark --master local[*number of cores*]\") from the folder containing the notebook."
   ],
   "metadata": {
    "collapsed": false
   }
  },
  {
   "cell_type": "code",
   "execution_count": null,
   "outputs": [],
   "source": [
    "from pyspark.sql import SparkSession\n",
    "import pandas as pd\n",
    "from utility_functions import *\n",
    "import os\n",
    "import enchant"
   ],
   "metadata": {
    "collapsed": false
   }
  },
  {
   "cell_type": "code",
   "execution_count": null,
   "outputs": [],
   "source": [
    "spark = SparkSession.builder \\\n",
    "    .config(\"spark.executor.memory\", \"32g\") \\\n",
    "    .config(\"spark.driver.memory\", \"32g\") \\\n",
    "    .config(\"spark.network.timeout\", \"1200s\") \\\n",
    "    .config(\"spark.executor.memoryOverhead\", \"12g\")\\\n",
    "    .config(\"spark.executor.heartbeatInterval\", \"1200s\")\\\n",
    "    .config(\"spark.executor.extraJavaOptions\", \"-Xmx32g -Xms12g\") \\\n",
    "    .getOrCreate()"
   ],
   "metadata": {
    "collapsed": false
   }
  },
  {
   "cell_type": "code",
   "execution_count": null,
   "outputs": [],
   "source": [
    "# Get directory\n",
    "directory = os.path.dirname(os.getcwd()).replace(\"\\\\\", \"/\")\n",
    "\n",
    "# GLOBAL VARIABLES\n",
    "PATH_OCCURRENCES = directory + \"/data/sentiment-knowledge/all-words-with-occurrences.csv\"\n",
    "PATH_SEEDS_POSITIVE = directory + \"/data/sentiment-knowledge/seeds-positive.txt\"\n",
    "PATH_SEEDS_NEGATIVE = directory + \"/data/sentiment-knowledge/seeds-negative.txt\"\n",
    "PATH_PMI = directory + \"/data/sentiment-knowledge/pmi.csv\"\n",
    "PATH_CO_OCCURRENCES = directory + \"/data/sentiment-knowledge/co-occurrences.csv\"\n",
    "PATH_POLARITY = directory + \"/data/sentiment-knowledge/polarity.csv\"\n",
    "CHUNK_SIZE = 100000\n",
    "PATH_DATASET = directory + \"/data/datasets/dataset-cleaned-no-unknown.json\"\n",
    "FIRST_COLUMN_OCC = \"word\"\n",
    "SECOND_COLUMN_OCC = \"occurrences\"\n",
    "DICTIONARY_US = enchant.Dict(\"en-US\")"
   ],
   "metadata": {
    "collapsed": false
   }
  },
  {
   "cell_type": "code",
   "execution_count": null,
   "outputs": [],
   "source": [
    "# Load dataset\n",
    "dataset = spark.read.json(PATH_DATASET)"
   ],
   "metadata": {
    "collapsed": false
   }
  },
  {
   "cell_type": "code",
   "execution_count": null,
   "outputs": [],
   "source": [
    "# Get list of words\n",
    "df_words = pd.read_csv(PATH_OCCURRENCES, keep_default_na=False, dtype={\"word\": str, \"occurrences\": int})\n",
    "\n",
    "# Get seeds and prepare dictionary of seeds for future use\n",
    "seeds_pos = []\n",
    "seeds_neg = []\n",
    "seeds = []\n",
    "seeds_polarity = {}\n",
    "with open(PATH_SEEDS_POSITIVE, 'r') as f1, open(PATH_SEEDS_NEGATIVE, 'r') as f2:\n",
    "    read_lines(f1, seeds_pos)\n",
    "    read_lines(f2, seeds_neg)\n",
    "\n",
    "for seed in seeds_pos:\n",
    "    seeds_polarity[seed] = True\n",
    "\n",
    "for seed in seeds_neg:\n",
    "    seeds_polarity[seed] = False\n",
    "\n",
    "seeds = seeds_pos + seeds_neg\n",
    "\n",
    "# Create dictionary for fast lookup of seed words and for occurrences. Get also the total number of occurrences\n",
    "tot_occurrences = 0\n",
    "occurences_dict = {}\n",
    "seeds_dict = {}\n",
    "checked_dict = {}\n",
    "for row in df_words.itertuples():\n",
    "    # Increase total number of occurrences\n",
    "    tot_occurrences += row.occurrences\n",
    "    # Add word to dictionary of occurrences\n",
    "    occurences_dict[row.word] = row.occurrences\n",
    "    # Add word to dictionary of checked\n",
    "    checked_dict[row.word] = DICTIONARY_US.check(row.word)\n",
    "    # Add word to dictionary for seeds identification\n",
    "    if row.word in seeds:\n",
    "        seeds_dict[row.word] = True\n",
    "    else:\n",
    "        seeds_dict[row.word] = False"
   ],
   "metadata": {
    "collapsed": false
   }
  },
  {
   "cell_type": "code",
   "execution_count": null,
   "outputs": [],
   "source": [
    "save_list_to_csv(dataset.rdd.map(lambda obj: tokenize_with_sequences(remove_symbols_before_tokenization(obj[\"reviewText\"])))\\\n",
    "            .flatMap(lambda x: [(pair, 1) for pair in get_pairs_word_seed(x, seeds_dict, occurences_dict, checked_dict)])\\\n",
    "            .reduceByKey(lambda x, y: x + y)\\\n",
    "            .map(lambda pair: (pair[0][0], pair[0][1], pmi(pair[1], occurences_dict[pair[0][0]], occurences_dict[pair[0][1]], tot_occurrences)))\\\n",
    "            .filter(lambda t: t[2] > 0)\\\n",
    "            .sortBy(lambda t: t[2], ascending=False)\\\n",
    "            .collect(), PATH_PMI, ['word1', 'word2', 'pmi'])"
   ],
   "metadata": {
    "collapsed": false
   }
  },
  {
   "cell_type": "code",
   "execution_count": null,
   "outputs": [],
   "source": [
    "# Get csv file and compute polarity of words\n",
    "df_pmi = pd.read_csv(PATH_PMI)\n",
    "\n",
    "polarity_dict = {}\n",
    "# Add seeds to polarity dict\n",
    "for seed in seeds:\n",
    "    if seeds_polarity[seed]:\n",
    "        polarity_dict[seed] = 1000\n",
    "    else:\n",
    "        polarity_dict[seed] = -1000\n",
    "\n",
    "# Add other words\n",
    "for row in df_pmi.itertuples():\n",
    "    # Add word to dictionary if not present\n",
    "    if not row.word2 in polarity_dict:\n",
    "        polarity_dict[row.word2] = 0\n",
    "    if seeds_polarity[row.word1]:\n",
    "        # The seed is positive\n",
    "        polarity_dict[row.word2] += row.pmi\n",
    "    else:\n",
    "        # The seed is negative\n",
    "        polarity_dict[row.word2] -= row.pmi\n",
    "\n",
    "save_list_to_csv(sorted(list(polarity_dict.items()), key=lambda x: abs(x[1]), reverse=True), PATH_POLARITY, [\"word\", \"polarity\"])"
   ],
   "metadata": {
    "collapsed": false
   }
  }
 ],
 "metadata": {
  "kernelspec": {
   "display_name": "Python 3",
   "language": "python",
   "name": "python3"
  },
  "language_info": {
   "codemirror_mode": {
    "name": "ipython",
    "version": 2
   },
   "file_extension": ".py",
   "mimetype": "text/x-python",
   "name": "python",
   "nbconvert_exporter": "python",
   "pygments_lexer": "ipython2",
   "version": "2.7.6"
  }
 },
 "nbformat": 4,
 "nbformat_minor": 0
}
