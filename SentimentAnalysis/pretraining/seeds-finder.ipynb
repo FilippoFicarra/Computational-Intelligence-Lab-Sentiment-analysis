{
 "cells": [
  {
   "cell_type": "markdown",
   "source": [
    "# Seed words finder for PMI score computation\n",
    "Disclaymer: To run this notebook, launch pyspark (command \"pyspark --master local[*number of cores*]\") from the folder containing the notebook."
   ],
   "metadata": {
    "collapsed": false
   }
  },
  {
   "cell_type": "code",
   "execution_count": null,
   "outputs": [],
   "source": [
    "from pyspark.sql import SparkSession\n",
    "from utility_functions import *"
   ],
   "metadata": {
    "collapsed": false
   }
  },
  {
   "cell_type": "code",
   "execution_count": null,
   "outputs": [],
   "source": [
    "# Create spark session\n",
    "spark = SparkSession.builder \\\n",
    "    .config(\"spark.executor.memory\", \"32g\") \\\n",
    "    .config(\"spark.driver.memory\", \"32g\") \\\n",
    "    .config(\"spark.network.timeout\", \"1200s\") \\\n",
    "    .config(\"spark.executor.memoryOverhead\", \"12g\")\\\n",
    "    .config(\"spark.executor.heartbeatInterval\", \"120s\")\\\n",
    "    .getOrCreate()"
   ],
   "metadata": {
    "collapsed": false
   }
  },
  {
   "cell_type": "code",
   "execution_count": null,
   "outputs": [],
   "source": [
    "# Load dataset\n",
    "path = \"data\\dataset-cleaned-no-unknown.jsonl\"\n",
    "dataset = spark.read.json(path)\n",
    "\n",
    "# Split rdd into multiple rdds\n",
    "split_rdds = dataset.randomSplit([0.1 for _ in range(0,10)])"
   ],
   "metadata": {
    "collapsed": false
   }
  },
  {
   "cell_type": "code",
   "execution_count": null,
   "outputs": [],
   "source": [
    "# Compute polarity for words.\n",
    "words_polarity_rdds = []\n",
    "\n",
    "for df in split_rdds:\n",
    "    words_polarity_rdds.append(\n",
    "        df.rdd.flatMap(lambda obj: [(word, calculate_polarity_of_occurrence(obj[\"overall\"])) for word in tokenize_with_sequences(remove_symbols_before_tokenization(obj[\"reviewText\"]))]) # Get polarity of each occurrence\n",
    "            .reduceByKey(lambda x, y: x + y) # Add polarity together\n",
    "    )"
   ],
   "metadata": {
    "collapsed": false
   }
  },
  {
   "cell_type": "code",
   "execution_count": null,
   "outputs": [],
   "source": [
    "# Merge rdds, then reduce by key to obtain final vocabulary\n",
    "merged_rdd_polarity = words_polarity_rdds[0].union(words_polarity_rdds[1])\n",
    "\n",
    "for i in range(2, len(words_polarity_rdds)):\n",
    "    merged_rdd_polarity = merged_rdd_polarity.union(words_polarity_rdds[i])\n",
    "\n",
    "word_with_polarity = merged_rdd_polarity.reduceByKey(lambda x, y: x + y).collect()"
   ],
   "metadata": {
    "collapsed": false
   }
  },
  {
   "cell_type": "code",
   "execution_count": null,
   "outputs": [],
   "source": [
    "# Save to csv file\n",
    "path_csv = \"data/sentiment-knowledge/words-polarity.csv\"\n",
    "save_list_to_csv(sorted(word_with_polarity, key=lambda x: x[1]), path_csv, ['word', 'polarity'])"
   ],
   "metadata": {
    "collapsed": false
   }
  }
 ],
 "metadata": {
  "kernelspec": {
   "display_name": "Python 3",
   "language": "python",
   "name": "python3"
  },
  "language_info": {
   "codemirror_mode": {
    "name": "ipython",
    "version": 2
   },
   "file_extension": ".py",
   "mimetype": "text/x-python",
   "name": "python",
   "nbconvert_exporter": "python",
   "pygments_lexer": "ipython2",
   "version": "2.7.6"
  }
 },
 "nbformat": 4,
 "nbformat_minor": 0
}
