{
 "cells": [
  {
   "cell_type": "markdown",
   "source": [
    "# Data cleaner\n",
    "Disclaymer: To run this notebook, launch pyspark (command \"pyspark --master local[*number of cores*]\") from the folder containing the notebook."
   ],
   "metadata": {
    "collapsed": false
   }
  },
  {
   "cell_type": "code",
   "execution_count": 1,
   "outputs": [],
   "source": [
    "from pyspark.sql import SparkSession\n",
    "from utility_functions import *\n",
    "from flashtext import KeywordProcessor"
   ],
   "metadata": {
    "collapsed": false,
    "ExecuteTime": {
     "end_time": "2023-07-13T19:52:11.011715500Z",
     "start_time": "2023-07-13T19:52:09.807693500Z"
    }
   }
  },
  {
   "cell_type": "code",
   "execution_count": 2,
   "outputs": [],
   "source": [
    "# Create spark session\n",
    "spark = SparkSession.builder \\\n",
    "    .config(\"spark.executor.memory\", \"32g\") \\\n",
    "    .config(\"spark.driver.memory\", \"32g\") \\\n",
    "    .config(\"spark.network.timeout\", \"1200s\") \\\n",
    "    .config(\"spark.executor.memoryOverhead\", \"12g\") \\\n",
    "    .config(\"spark.executor.heartbeatInterval\", \"120s\") \\\n",
    "    .getOrCreate()"
   ],
   "metadata": {
    "collapsed": false,
    "ExecuteTime": {
     "end_time": "2023-07-13T19:52:12.568531400Z",
     "start_time": "2023-07-13T19:52:12.552902600Z"
    }
   }
  },
  {
   "cell_type": "code",
   "execution_count": 3,
   "outputs": [],
   "source": [
    "# Load dataset\n",
    "path = \"data/dataset.jsonl\"\n",
    "dataset = spark.read.json(path)\n",
    "\n",
    "# Split rdd into multiple rdds\n",
    "split_rdds = dataset.randomSplit([0.1 for _ in range(0,10)])"
   ],
   "metadata": {
    "collapsed": false,
    "ExecuteTime": {
     "end_time": "2023-07-13T19:52:17.950787700Z",
     "start_time": "2023-07-13T19:52:13.680437400Z"
    }
   }
  },
  {
   "cell_type": "code",
   "execution_count": 4,
   "outputs": [],
   "source": [
    "# Create rdd of cleaned text\n",
    "cleaned_rdds = []\n",
    "\n",
    "for df in split_rdds:\n",
    "    cleaned_rdds.append(\n",
    "        df.rdd.map(lambda obj: {\"overall\": obj[\"overall\"], \"reviewText\": obj[\"reviewText\"].lower()})\n",
    "            .filter(lambda obj: \"old review\" not in obj[\"reviewText\"]) # Remove objects containing \"old review\"\n",
    "            .map(lambda obj: {\"overall\": obj[\"overall\"], \"reviewText\": cleaning_function_no_unknown(obj[\"reviewText\"])}) # Clean\n",
    "    )"
   ],
   "metadata": {
    "collapsed": false,
    "ExecuteTime": {
     "end_time": "2023-07-13T19:52:19.278143900Z",
     "start_time": "2023-07-13T19:52:18.672133800Z"
    }
   }
  },
  {
   "cell_type": "code",
   "execution_count": 5,
   "outputs": [],
   "source": [
    "# Save cleaned dataset with unknown words\n",
    "path_cleaned = \"data/dataset-cleaned.jsonl\"\n",
    "\n",
    "with open(path_cleaned, \"w\") as f:\n",
    "    for rdd in cleaned_rdds:\n",
    "        for item in rdd.collect():\n",
    "            f.write(str(item) + \"\\n\")"
   ],
   "metadata": {
    "collapsed": false,
    "ExecuteTime": {
     "end_time": "2023-07-13T20:00:18.652217100Z",
     "start_time": "2023-07-13T19:52:20.715523800Z"
    }
   }
  },
  {
   "cell_type": "code",
   "execution_count": 6,
   "outputs": [],
   "source": [
    "# Load cleaned dataset\n",
    "dataset_cleaned = spark.read.json(path_cleaned)\n",
    "\n",
    "# Split rdd into multiple rdds\n",
    "split_rdds_cleaned = dataset_cleaned.randomSplit([0.1 for _ in range(0,10)])"
   ],
   "metadata": {
    "collapsed": false,
    "ExecuteTime": {
     "end_time": "2023-07-13T20:01:52.010856700Z",
     "start_time": "2023-07-13T20:01:50.862528600Z"
    }
   }
  },
  {
   "cell_type": "code",
   "execution_count": 7,
   "outputs": [],
   "source": [
    "# Compute list of words with number of occurrences\n",
    "words_occurrences_rdds = []\n",
    "\n",
    "for df in split_rdds_cleaned:\n",
    "    words_occurrences_rdds.append(\n",
    "        df.rdd.flatMap(lambda obj: [(word, 1) for word in tokenize_with_sequences(remove_symbols_before_tokenization(obj[\"reviewText\"]))]) # Tokenize\n",
    "            .reduceByKey(lambda x, y: x + y) # Add occurrences\n",
    "    )"
   ],
   "metadata": {
    "collapsed": false,
    "ExecuteTime": {
     "end_time": "2023-07-13T20:01:55.996184600Z",
     "start_time": "2023-07-13T20:01:55.522116500Z"
    }
   }
  },
  {
   "cell_type": "code",
   "execution_count": 8,
   "outputs": [],
   "source": [
    "# Merge rdds, then reduce by key to obtain final vocabulary with number of occurreces\n",
    "merged_rdd_occurrences = words_occurrences_rdds[0].union(words_occurrences_rdds[1])\n",
    "\n",
    "for i in range(2, len(words_occurrences_rdds)):\n",
    "    merged_rdd_occurrences = merged_rdd_occurrences.union(words_occurrences_rdds[i])\n",
    "\n",
    "words_with_occurrences = merged_rdd_occurrences.reduceByKey(lambda x, y: x + y).collect()"
   ],
   "metadata": {
    "collapsed": false,
    "ExecuteTime": {
     "end_time": "2023-07-13T20:07:15.613571200Z",
     "start_time": "2023-07-13T20:01:57.642171700Z"
    }
   }
  },
  {
   "cell_type": "code",
   "execution_count": 9,
   "outputs": [],
   "source": [
    "# Process list of words with occurrences\n",
    "count = 0\n",
    "frequent_words = []\n",
    "unknown_words = []\n",
    "for word in sorted(words_with_occurrences, key=lambda x: x[1]):\n",
    "    if word[1] <= 10:\n",
    "        count += word[1]\n",
    "        unknown_words.append(word[0])\n",
    "    else:\n",
    "        frequent_words.append(word)\n",
    "\n",
    "# Append unknown\n",
    "frequent_words.append(('[UNKNOWN]', count))\n",
    "\n",
    "# Create keyword processor for later use\n",
    "kp = KeywordProcessor()\n",
    "for word in unknown_words:\n",
    "    kp.add_keyword(word[0], '[UNKNOWN]')\n",
    "\n",
    "# Save dataframe with occurrences of known words for later use\n",
    "path_all_occurrences = \"data/sentiment-knowledge/all-words-with-occurrences.csv\"\n",
    "save_list_to_csv(sorted(frequent_words, key=lambda x: x[1]), path_all_occurrences, [\"word\", \"occurrences\"])"
   ],
   "metadata": {
    "collapsed": false,
    "ExecuteTime": {
     "end_time": "2023-07-13T20:07:27.958330700Z",
     "start_time": "2023-07-13T20:07:27.476072800Z"
    }
   }
  },
  {
   "cell_type": "code",
   "execution_count": 10,
   "outputs": [],
   "source": [
    "# Create rdd of cleaned text without unknown words\n",
    "cleaned_no_unknown_rdds = []\n",
    "\n",
    "for df in split_rdds_cleaned:\n",
    "    cleaned_no_unknown_rdds.append(\n",
    "        df.rdd.map(lambda obj: {\"overall\": obj[\"overall\"], \"reviewText\": kp.replace_keywords(obj[\"reviewText\"])}) # Remove unknown\n",
    "    )"
   ],
   "metadata": {
    "collapsed": false,
    "ExecuteTime": {
     "end_time": "2023-07-13T20:07:57.388551500Z",
     "start_time": "2023-07-13T20:07:57.371861500Z"
    }
   }
  },
  {
   "cell_type": "code",
   "execution_count": 11,
   "outputs": [],
   "source": [
    "# Save cleaned dataset without unknown\n",
    "path_cleaned_unknown = \"data/dataset-cleaned-no-unknown.jsonl\"\n",
    "\n",
    "with open(path_cleaned_unknown, \"w\") as f:\n",
    "    for rdd in cleaned_no_unknown_rdds:\n",
    "        for item in rdd.collect():\n",
    "            f.write(str(item) + \"\\n\")"
   ],
   "metadata": {
    "collapsed": false,
    "ExecuteTime": {
     "end_time": "2023-07-13T20:10:11.207308200Z",
     "start_time": "2023-07-13T20:07:58.420016300Z"
    }
   }
  },
  {
   "cell_type": "code",
   "execution_count": 12,
   "outputs": [
    {
     "name": "stdout",
     "output_type": "stream",
     "text": [
      "The percentage of retained words is 99.62825188302014\n"
     ]
    }
   ],
   "source": [
    "count_frequent = 0\n",
    "\n",
    "for word in frequent_words:\n",
    "    count_frequent += word[1]\n",
    "\n",
    "print(f\"The percentage of retained words is {(count_frequent * 100)/(count_frequent + count)}\")"
   ],
   "metadata": {
    "collapsed": false,
    "ExecuteTime": {
     "end_time": "2023-07-13T20:12:05.320229700Z",
     "start_time": "2023-07-13T20:12:05.273263Z"
    }
   }
  }
 ],
 "metadata": {
  "kernelspec": {
   "display_name": "Python 3",
   "language": "python",
   "name": "python3"
  },
  "language_info": {
   "codemirror_mode": {
    "name": "ipython",
    "version": 2
   },
   "file_extension": ".py",
   "mimetype": "text/x-python",
   "name": "python",
   "nbconvert_exporter": "python",
   "pygments_lexer": "ipython2",
   "version": "2.7.6"
  }
 },
 "nbformat": 4,
 "nbformat_minor": 0
}
