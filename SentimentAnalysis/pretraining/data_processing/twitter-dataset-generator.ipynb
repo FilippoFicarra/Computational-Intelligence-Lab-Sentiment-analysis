{
 "cells": [
  {
   "cell_type": "markdown",
   "source": [
    "# Data cleaner for twitter dataset\n",
    "Disclaymer: To run this notebook, launch pyspark (command \"pyspark --master local[*number of cores*]\") from the folder containing the notebook."
   ],
   "metadata": {
    "collapsed": false
   }
  },
  {
   "cell_type": "code",
   "execution_count": null,
   "outputs": [],
   "source": [
    "from pyspark.sql import SparkSession\n",
    "from utility_functions import *\n",
    "import os"
   ],
   "metadata": {
    "collapsed": false
   }
  },
  {
   "cell_type": "code",
   "execution_count": null,
   "outputs": [],
   "source": [
    "# Get directory\n",
    "directory = os.path.dirname(os.getcwd()).replace(\"\\\\\", \"/\")\n",
    "\n",
    "# Define paths\n",
    "path_neg_tweets = directory + \"/data/twitter-data/train_neg_full.txt\"\n",
    "path_pos_tweets = directory + \"/data/twitter-data/train_pos_full.txt\"\n",
    "path_tweets = directory + \"/data/datasets/twitter-dataset-cleaned.json\"\n",
    "path_all_occurrences = directory + \"/data/sentiment-knowledge/twitter-all-words-with-occurrences.csv\"\n",
    "path_tweets_no_unknown_directory = directory + \"/data/datasets/twitter-dataset\"\n",
    "path_tweets_no_unknown = directory + \"/data/datasets/twitter-dataset.json\""
   ],
   "metadata": {
    "collapsed": false
   }
  },
  {
   "cell_type": "code",
   "execution_count": null,
   "outputs": [],
   "source": [
    "spark = SparkSession.builder \\\n",
    "    .config(\"spark.executor.memory\", \"32g\") \\\n",
    "    .config(\"spark.driver.memory\", \"32g\") \\\n",
    "    .config(\"spark.network.timeout\", \"1200s\") \\\n",
    "    .config(\"spark.executor.memoryOverhead\", \"12g\")\\\n",
    "    .config(\"spark.executor.heartbeatInterval\", \"1200s\")\\\n",
    "    .config(\"spark.executor.extraJavaOptions\", \"-Xmx32g -Xms12g\") \\\n",
    "    .getOrCreate()"
   ],
   "metadata": {
    "collapsed": false
   }
  },
  {
   "cell_type": "code",
   "execution_count": null,
   "outputs": [],
   "source": [
    "# Read datasets\n",
    "dataset_neg = spark.read.text(path_neg_tweets).rdd.distinct().map(lambda x: {\"label\": 0, \"text\": x.value})\n",
    "dataset_pos = spark.read.text(path_pos_tweets).rdd.distinct().map(lambda x: {\"label\": 1, \"text\": x.value})\n",
    "\n",
    "# Merge\n",
    "dataset = dataset_neg.union(dataset_pos)\n",
    "\n",
    "# Split rdd into multiple rdds\n",
    "split_rdds = dataset.randomSplit([0.1 for _ in range(0,10)])"
   ],
   "metadata": {
    "collapsed": false
   }
  },
  {
   "cell_type": "code",
   "execution_count": null,
   "outputs": [],
   "source": [
    "# Process dataset\n",
    "rdds = []\n",
    "\n",
    "for rdd in split_rdds:\n",
    "    rdds.append(\n",
    "        rdd.map(lambda obj: {\"label\": obj[\"label\"], \"text\": cleaning_function_twitter_dataset(obj[\"text\"])})\n",
    "    )"
   ],
   "metadata": {
    "collapsed": false
   }
  },
  {
   "cell_type": "code",
   "execution_count": null,
   "outputs": [],
   "source": [
    "with open(path_tweets, \"a\") as f:\n",
    "    for rdd in rdds:\n",
    "        for item in rdd.collect():\n",
    "            f.write(str(item).replace(\"'\", \"\\\"\") + \"\\n\")"
   ],
   "metadata": {
    "collapsed": false
   }
  },
  {
   "cell_type": "code",
   "execution_count": null,
   "outputs": [],
   "source": [
    "# Load cleaned dataset\n",
    "dataset_cleaned = spark.read.json(path_tweets)\n",
    "\n",
    "# Split rdd into multiple rdds\n",
    "split_rdds_cleaned = dataset_cleaned.randomSplit([0.1 for _ in range(0, 10)])"
   ],
   "metadata": {
    "collapsed": false
   }
  },
  {
   "cell_type": "code",
   "execution_count": null,
   "outputs": [],
   "source": [
    "# Compute list of words with number of occurrences\n",
    "words_occurrences_rdds = []\n",
    "\n",
    "for df in split_rdds_cleaned:\n",
    "    words_occurrences_rdds.append(\n",
    "        df.rdd.flatMap(lambda obj: [(word, 1) for word in tokenize_with_sequences(\n",
    "            remove_symbols_before_tokenization(obj[\"text\"], True), True)])  # Tokenize\n",
    "        .reduceByKey(lambda x, y: x + y)  # Add occurrences\n",
    "    )"
   ],
   "metadata": {
    "collapsed": false
   }
  },
  {
   "cell_type": "code",
   "execution_count": null,
   "outputs": [],
   "source": [
    "# Merge rdds, then reduce by key to obtain final vocabulary with number of occurreces\n",
    "merged_rdd_occurrences = words_occurrences_rdds[0].union(words_occurrences_rdds[1])\n",
    "\n",
    "for i in range(2, len(words_occurrences_rdds)):\n",
    "    merged_rdd_occurrences = merged_rdd_occurrences.union(words_occurrences_rdds[i])\n",
    "\n",
    "words_with_occurrences = merged_rdd_occurrences.reduceByKey(lambda x, y: x + y).collect()"
   ],
   "metadata": {
    "collapsed": false
   }
  },
  {
   "cell_type": "code",
   "execution_count": null,
   "outputs": [],
   "source": [
    "import wordninja\n",
    "import re\n",
    "\n",
    "def replace_numbers_in_list(list_of_strings):\n",
    "    pattern = r'\\d+'  # \\d+ matches one or more digits (a number)\n",
    "\n",
    "    replaced_list = []\n",
    "    for string in list_of_strings:\n",
    "        replaced_string = re.sub(pattern, \"\", string)\n",
    "        replaced_list.append(replaced_string)\n",
    "\n",
    "    return replaced_list\n",
    "\n",
    "def contains_numbers(word):\n",
    "    pattern = r'\\d'  # \\d matches any digit (0-9)\n",
    "    return bool(re.search(pattern, word))\n",
    "\n",
    "# Create keyword processor\n",
    "kp = KeywordProcessor()\n",
    "\n",
    "# Process list of words with occurrences\n",
    "count_unknown = 0\n",
    "count_frequent = 0\n",
    "frequent_words = []\n",
    "unknown_words = []\n",
    "for word in sorted(words_with_occurrences, key=lambda x: x[1]):\n",
    "    if word[1] == 1:\n",
    "        kp.add_keyword(word[0], \" \")\n",
    "    elif word[1] <= 15:\n",
    "        if not contains_numbers(word[0]):\n",
    "            new_words = wordninja.split(word[0])\n",
    "            value = \" \".join(new_words)\n",
    "            kp.add_keyword(word[0], value)\n",
    "    # else:\n",
    "    #     if contains_numbers(word[0]):\n",
    "    #         new_words = wordninja.split(word[0])\n",
    "    #         new_words = replace_numbers_in_list(new_words)\n",
    "    #         final_list = []\n",
    "    #         for w in new_words:\n",
    "    #             if len(w) != 1 or w == \"x\":\n",
    "    #                 final_list.append(w)\n",
    "    #         value = \" \".join(final_list)\n",
    "    #         kp.add_keyword(word[0], value)"
   ],
   "metadata": {
    "collapsed": false
   }
  },
  {
   "cell_type": "code",
   "execution_count": null,
   "outputs": [],
   "source": [
    "# Create rdd of cleaned text without unknown words\n",
    "cleaned_no_unknown_rdds = []\n",
    "\n",
    "for df in split_rdds_cleaned:\n",
    "    cleaned_no_unknown_rdds.append(\n",
    "        df.rdd.map(lambda obj: {\"label\": obj[\"label\"],\n",
    "                                \"text\": \" \".join(kp.replace_keywords(obj[\"text\"]).split())}) # Remove unknown\n",
    "    )"
   ],
   "metadata": {
    "collapsed": false
   }
  },
  {
   "cell_type": "code",
   "execution_count": null,
   "outputs": [],
   "source": [
    "# Save cleaned dataset with unknown words\n",
    "for i in range(0, len(cleaned_no_unknown_rdds)):\n",
    "    save_rdd_to_json_file(path_tweets_no_unknown_directory + \"/cleaned\" + f\"{i}\", cleaned_no_unknown_rdds[i], [\"label\", \"text\"])\n",
    "\n",
    "# Create dataset from files\n",
    "merge_files(path_tweets_no_unknown_directory, path_tweets_no_unknown)"
   ],
   "metadata": {
    "collapsed": false
   }
  }
 ],
 "metadata": {
  "kernelspec": {
   "display_name": "Python 3",
   "language": "python",
   "name": "python3"
  },
  "language_info": {
   "codemirror_mode": {
    "name": "ipython",
    "version": 2
   },
   "file_extension": ".py",
   "mimetype": "text/x-python",
   "name": "python",
   "nbconvert_exporter": "python",
   "pygments_lexer": "ipython2",
   "version": "2.7.6"
  }
 },
 "nbformat": 4,
 "nbformat_minor": 0
}
