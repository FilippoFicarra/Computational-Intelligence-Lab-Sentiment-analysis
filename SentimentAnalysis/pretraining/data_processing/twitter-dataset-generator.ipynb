{
 "cells": [
  {
   "cell_type": "markdown",
   "source": [
    "# Data cleaner for twitter dataset\n",
    "Disclaymer: To run this notebook, launch pyspark (command \"pyspark --master local[*number of cores*]\") from the folder containing the notebook."
   ],
   "metadata": {
    "collapsed": false
   }
  },
  {
   "cell_type": "code",
   "execution_count": 1,
   "outputs": [],
   "source": [
    "from pyspark.sql import SparkSession\n",
    "from utility_functions import *\n",
    "import os"
   ],
   "metadata": {
    "collapsed": false,
    "ExecuteTime": {
     "end_time": "2023-07-22T15:12:36.186688900Z",
     "start_time": "2023-07-22T15:12:32.016638500Z"
    }
   }
  },
  {
   "cell_type": "code",
   "execution_count": 2,
   "outputs": [],
   "source": [
    "# Get directory\n",
    "directory = os.path.dirname(os.getcwd()).replace(\"\\\\\", \"/\")\n",
    "\n",
    "# Define paths\n",
    "path_neg_tweets = directory + \"/data/twitter-data/train_neg_full.txt\"\n",
    "path_pos_tweets = directory + \"/data/twitter-data/train_pos_full.txt\"\n",
    "path_tweets = directory + \"/data/datasets/twitter-dataset.json\""
   ],
   "metadata": {
    "collapsed": false,
    "ExecuteTime": {
     "end_time": "2023-07-22T15:12:39.048422300Z",
     "start_time": "2023-07-22T15:12:39.020738100Z"
    }
   }
  },
  {
   "cell_type": "code",
   "execution_count": 3,
   "outputs": [],
   "source": [
    "spark = SparkSession.builder \\\n",
    "    .config(\"spark.executor.memory\", \"32g\") \\\n",
    "    .config(\"spark.driver.memory\", \"32g\") \\\n",
    "    .config(\"spark.network.timeout\", \"1200s\") \\\n",
    "    .config(\"spark.executor.memoryOverhead\", \"12g\")\\\n",
    "    .config(\"spark.executor.heartbeatInterval\", \"1200s\")\\\n",
    "    .config(\"spark.executor.extraJavaOptions\", \"-Xmx32g -Xms12g\") \\\n",
    "    .getOrCreate()"
   ],
   "metadata": {
    "collapsed": false,
    "ExecuteTime": {
     "end_time": "2023-07-22T15:12:39.862925900Z",
     "start_time": "2023-07-22T15:12:39.820827700Z"
    }
   }
  },
  {
   "cell_type": "code",
   "execution_count": 4,
   "outputs": [],
   "source": [
    "# Read datasets\n",
    "dataset_neg = spark.read.text(path_neg_tweets).rdd.distinct().map(lambda x: {\"label\": 0, \"text\": x.value})\n",
    "dataset_pos = spark.read.text(path_pos_tweets).rdd.distinct().map(lambda x: {\"label\": 1, \"text\": x.value})\n",
    "\n",
    "# Merge\n",
    "dataset = dataset_neg.union(dataset_pos)\n",
    "\n",
    "# Split rdd into multiple rdds\n",
    "split_rdds = dataset.randomSplit([0.1 for _ in range(0,10)])"
   ],
   "metadata": {
    "collapsed": false,
    "ExecuteTime": {
     "end_time": "2023-07-22T15:12:43.251724800Z",
     "start_time": "2023-07-22T15:12:40.827337700Z"
    }
   }
  },
  {
   "cell_type": "code",
   "execution_count": 5,
   "outputs": [],
   "source": [
    "# Process dataset\n",
    "rdds = []\n",
    "\n",
    "for rdd in split_rdds:\n",
    "    rdds.append(\n",
    "        rdd.map(lambda obj: {\"label\": obj[\"label\"], \"text\": cleaning_function_twitter_dataset(obj[\"text\"])})\n",
    "    )"
   ],
   "metadata": {
    "collapsed": false,
    "ExecuteTime": {
     "end_time": "2023-07-22T15:12:43.946247200Z",
     "start_time": "2023-07-22T15:12:43.925248400Z"
    }
   }
  },
  {
   "cell_type": "code",
   "execution_count": 6,
   "outputs": [],
   "source": [
    "with open(path_tweets, \"a\") as f:\n",
    "    for rdd in rdds:\n",
    "        for item in rdd.collect():\n",
    "            f.write(str(item).replace(\"'\", \"\\\"\") + \"\\n\")"
   ],
   "metadata": {
    "collapsed": false,
    "ExecuteTime": {
     "end_time": "2023-07-22T15:18:13.591949600Z",
     "start_time": "2023-07-22T15:12:44.636574100Z"
    }
   }
  }
 ],
 "metadata": {
  "kernelspec": {
   "display_name": "Python 3",
   "language": "python",
   "name": "python3"
  },
  "language_info": {
   "codemirror_mode": {
    "name": "ipython",
    "version": 2
   },
   "file_extension": ".py",
   "mimetype": "text/x-python",
   "name": "python",
   "nbconvert_exporter": "python",
   "pygments_lexer": "ipython2",
   "version": "2.7.6"
  }
 },
 "nbformat": 4,
 "nbformat_minor": 0
}
