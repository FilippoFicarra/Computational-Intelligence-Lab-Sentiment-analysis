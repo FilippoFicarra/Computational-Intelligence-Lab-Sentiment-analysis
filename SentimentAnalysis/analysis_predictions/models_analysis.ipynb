{
 "cells": [
  {
   "cell_type": "code",
   "execution_count": null,
   "outputs": [],
   "source": [
    "import matplotlib.pyplot as plt\n",
    "import pandas as pd\n",
    "import os"
   ],
   "metadata": {
    "collapsed": false
   }
  },
  {
   "cell_type": "code",
   "execution_count": null,
   "outputs": [],
   "source": [
    "# Function toplot a distribution\n",
    "def plot_distribution(dict_val, title, x_label, y_label):\n",
    "    N = sum(dict_val.values())\n",
    "    x_values = list(dict_val.keys())\n",
    "    y_values = [y / N for y in list(dict_val.values())]\n",
    "    plt.figure(figsize=(15, 6))\n",
    "    plt.bar(x_values, y_values)\n",
    "    plt.xlabel(x_label)\n",
    "    plt.ylabel(y_label)\n",
    "    plt.title(title)\n",
    "    plt.xlim(min(x_values), max(x_values))\n",
    "    plt.ylim(0, max(y_values) * 1.05)\n",
    "    plt.show()"
   ],
   "metadata": {
    "collapsed": false
   }
  },
  {
   "cell_type": "code",
   "execution_count": null,
   "outputs": [],
   "source": [
    "# Plot distribution of length of tweets\n",
    "PATH_DATA = \"../data/datasets/twitter.json\"\n",
    "data = pd.read_json(PATH_DATA, lines=True)\n",
    "\n",
    "dict_length = {}\n",
    "for row in data.itertuples():\n",
    "    length = len(row.text)\n",
    "    if length not in dict_length.keys():\n",
    "        dict_length[length] = 1\n",
    "    else:\n",
    "        dict_length[length] += 1\n",
    "        \n",
    "plot_distribution(dict_length, \"Distribution of Length of tweets\", \"Lenght\", \"Frequency\")"
   ],
   "metadata": {
    "collapsed": false
   }
  },
  {
   "cell_type": "code",
   "execution_count": null,
   "outputs": [],
   "source": [
    "# Evaluate and compare predictions of models on test set of 10k samples \n",
    "df_labels = pd.read_csv(\"test_analysis_labels.csv\")\n",
    "df_text = pd.read_json(\"test_analysis.json\", lines=True)\n",
    "\n",
    "misses = []\n",
    "dict_distributions = {}\n",
    "\n",
    "for filename in sorted(os.listdir(\"../predictions\")):\n",
    "    if \".git\" in filename:\n",
    "        pass\n",
    "    else:\n",
    "        file_path = os.path.join(\"../predictions\", filename)\n",
    "        df_pred = pd.read_csv(file_path)\n",
    "        misses_mod = []\n",
    "        lens = []\n",
    "        dict_d = {}\n",
    "        for row in df_pred.iterrows():\n",
    "            label = 0 if row[1].Prediction == -1 else 1\n",
    "            if df_labels.iloc[row[0], 0] != label:\n",
    "                misses_mod.append(row[0])\n",
    "                lens.append(len(df_text.loc[row[0], \"text\"]))\n",
    "                length = len(df_text.loc[row[0], \"text\"])\n",
    "                if length not in dict_d.keys():\n",
    "                    dict_d[length] = 1\n",
    "                else:\n",
    "                    dict_d[length] += 1   \n",
    "        \n",
    "        dict_distributions[filename] = dict_d\n",
    "        misses.append(misses_mod)"
   ],
   "metadata": {
    "collapsed": false
   }
  },
  {
   "cell_type": "code",
   "execution_count": null,
   "outputs": [],
   "source": [
    "for key, d in dict_distributions.items():\n",
    "    plot_distribution(d, f\"Distribution of length of tweets classified incorrectly by {key.replace('.csv', '')}\", \"Length\", \"Frequency\")"
   ],
   "metadata": {
    "collapsed": false
   }
  },
  {
   "cell_type": "code",
   "execution_count": null,
   "outputs": [],
   "source": [
    "# Save elements which have been mistakenly classified by models used in the ensamble\n",
    "common_elements = [element for element in misses[0] if element in misses[1] if element in misses[3]]\n",
    "df_misses = df_text.iloc[common_elements]\n",
    "df_misses_labels = df_labels.iloc[common_elements]\n",
    "pd.concat([df_misses_labels, df_misses], axis=1).to_csv(\"common-with-clip.csv\")"
   ],
   "metadata": {
    "collapsed": false
   }
  }
 ],
 "metadata": {
  "kernelspec": {
   "display_name": "Python 3",
   "language": "python",
   "name": "python3"
  },
  "language_info": {
   "codemirror_mode": {
    "name": "ipython",
    "version": 2
   },
   "file_extension": ".py",
   "mimetype": "text/x-python",
   "name": "python",
   "nbconvert_exporter": "python",
   "pygments_lexer": "ipython2",
   "version": "2.7.6"
  }
 },
 "nbformat": 4,
 "nbformat_minor": 0
}
