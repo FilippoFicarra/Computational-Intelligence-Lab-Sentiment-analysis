{
 "cells": [
  {
   "attachments": {},
   "cell_type": "markdown",
   "metadata": {},
   "source": [
    "**Here we perform the training loops**"
   ]
  },
  {
   "cell_type": "code",
   "execution_count": 78,
   "metadata": {},
   "outputs": [],
   "source": [
    "from DataFrameManager.dataframeManager import DataFrameManager\n",
    "import numpy as np\n",
    "from tqdm import tqdm\n",
    "from sklearn.linear_model import LogisticRegression\n",
    "from sklearn.metrics import accuracy_score\n",
    "from sklearn.model_selection import GridSearchCV\n",
    "import xgboost as xgb\n",
    "\n",
    "\n",
    "DATASET_COLUMNS = [\"target\", \"ids\", \"date\", \"flag\", \"user\", \"text\"]\n",
    "DATASET_ENCODING = \"ISO-8859-1\"\n",
    "MODEL_NAME = 'roberta'\n",
    "NUM_CLASSES = 3\n"
   ]
  },
  {
   "cell_type": "code",
   "execution_count": 79,
   "metadata": {},
   "outputs": [],
   "source": [
    "dataFrameManage = DataFrameManager()\n",
    "\n",
    "train_df = dataFrameManage.load_dataframe(filepath=\"Data/train.csv\", encoding=DATASET_ENCODING, preprocess=False)\n",
    "test_df = dataFrameManage.load_dataframe(filepath=\"Data/test.csv\", encoding=DATASET_ENCODING, preprocess=False)\n",
    "\n",
    "encode_map = {\"NEGATIVE\" : 0, \"NEUTRAL\" : 1, \"POSITIVE\" : 2}\n",
    "    \n",
    "\n",
    "train_labels = train_df[\"target\"].map(encode_map).to_list()\n",
    "test_labels = test_df[\"target\"].map(encode_map).to_list()"
   ]
  },
  {
   "cell_type": "code",
   "execution_count": 80,
   "metadata": {},
   "outputs": [],
   "source": [
    "train_embeddings = np.load(f'Data/train_embeddings_{MODEL_NAME}.npy', allow_pickle=True)\n",
    "test_embeddings = np.load(f'Data/test_embeddings_{MODEL_NAME}.npy', allow_pickle=True)"
   ]
  },
  {
   "cell_type": "code",
   "execution_count": 81,
   "metadata": {},
   "outputs": [],
   "source": [
    "# # # Start training\n",
    "\n",
    "\n",
    "# # Define the hyperparameter grid\n",
    "# param_grid = {\n",
    "#     'C': [10.0, 50.0],\n",
    "#     'max_iter': [1000, 1500],\n",
    "#     'penalty': ['l2']\n",
    "# }\n",
    "\n",
    "# # # Create the Logistic Regression classifier\n",
    "# classifier_lr = LogisticRegression(random_state=42)\n",
    "\n",
    "# # Perform grid search with cross-validation\n",
    "# grid_search = GridSearchCV(classifier_lr, param_grid, cv=5)\n",
    "# grid_search.fit(train_embeddings, train_labels)\n",
    "\n",
    "# # Get the best hyperparameters and best score\n",
    "# best_params = grid_search.best_params_\n",
    "# best_score = grid_search.best_score_\n",
    "\n",
    "# print(\"Best Hyperparameters: \", best_params)\n",
    "# print(\"Best Score: \", best_score)\n",
    "\n",
    "# # Fit the model with the best hyperparameters on the entire training data\n",
    "# best_classifier_lr = LogisticRegression(**best_params)\n",
    "# best_classifier_lr.fit(train_embeddings, train_labels)\n",
    "\n",
    "# # Predict on the test set\n",
    "# predictions_lr = best_classifier_lr.predict(test_embeddings)\n",
    "\n",
    "# # Calculate the accuracy score\n",
    "# accuracy_lr = accuracy_score(test_labels, predictions_lr)\n",
    "# print(\"Accuracy score for Logistic Regression: \", accuracy_lr)\n",
    "\n"
   ]
  },
  {
   "attachments": {},
   "cell_type": "markdown",
   "metadata": {},
   "source": [
    "**XGBoost**"
   ]
  },
  {
   "cell_type": "code",
   "execution_count": null,
   "metadata": {},
   "outputs": [],
   "source": [
    "\n",
    "# Define the hyperparameter grid\n",
    "param_grid = {\n",
    "    'eta': [0.1, 0.3],\n",
    "    'max_depth': [3, 6],\n",
    "    'subsample': [0.8, 1.0],\n",
    "    'colsample_bytree': [0.8, 1.0],\n",
    "}\n",
    "\n",
    "# Create the XGBoost classifier\n",
    "classifier_xgb = xgb.XGBClassifier(random_state=42)\n",
    "\n",
    "# Perform grid search with cross-validation\n",
    "grid_search = GridSearchCV(classifier_xgb, param_grid, cv=5)\n",
    "grid_search.fit(train_embeddings, train_labels)\n",
    "\n",
    "# Get the best hyperparameters and best score\n",
    "best_params = grid_search.best_params_\n",
    "best_score = grid_search.best_score_\n",
    "\n",
    "print(\"Best Hyperparameters: \", best_params)\n",
    "print(\"Best Score: \", best_score)\n",
    "\n",
    "# Fit the model with the best hyperparameters on the entire training data\n",
    "best_classifier_xgb = xgb.XGBClassifier(**best_params, random_state=42)\n",
    "best_classifier_xgb.fit(train_embeddings, train_labels)\n",
    "\n",
    "# Predict on the test set\n",
    "predictions_xgb = best_classifier_xgb.predict(test_embeddings)\n",
    "\n",
    "# Calculate the accuracy score\n",
    "accuracy_xgb = accuracy_score(test_labels, predictions_xgb)\n",
    "print(\"Accuracy score for XGBoost: \", accuracy_xgb)"
   ]
  },
  {
   "attachments": {},
   "cell_type": "markdown",
   "metadata": {},
   "source": [
    "**MLP**"
   ]
  },
  {
   "cell_type": "code",
   "execution_count": 83,
   "metadata": {},
   "outputs": [
    {
     "name": "stderr",
     "output_type": "stream",
     "text": [
      "Epoch: 100%|██████████| 20/20 [00:00<00:00, 113.45epoch/s, Train Loss=0.963]"
     ]
    },
    {
     "name": "stdout",
     "output_type": "stream",
     "text": [
      "tensor([2, 2, 2,  ..., 2, 2, 2])\n",
      "Accuracy score for Neural Network:  0.5082623935903856\n"
     ]
    },
    {
     "name": "stderr",
     "output_type": "stream",
     "text": [
      "\n"
     ]
    }
   ],
   "source": [
    "import torch\n",
    "import torch.nn as nn\n",
    "import torch.optim as optim\n",
    "\n",
    "# Define the neural network model\n",
    "class NeuralNetwork(nn.Module):\n",
    "    def __init__(self, input_dim, num_classes):\n",
    "        super(NeuralNetwork, self).__init__()\n",
    "        self.fc1 = nn.Linear(input_dim, 128)\n",
    "        self.fc2 = nn.Linear(128, 64)\n",
    "        self.fc3 = nn.Linear(64, 32)\n",
    "        self.fc4 = nn.Linear(32, num_classes)\n",
    "\n",
    "    def forward(self, x):\n",
    "        x = torch.relu(self.fc1(x))\n",
    "        x = torch.relu(self.fc2(x))\n",
    "        x = torch.relu(self.fc3(x))\n",
    "        x = torch.softmax(self.fc4(x), dim=1)\n",
    "        return x\n",
    "\n",
    "# Create the neural network model\n",
    "model = NeuralNetwork(train_embeddings.shape[1], 3)\n",
    "\n",
    "# Define the loss function and optimizer\n",
    "criterion = nn.CrossEntropyLoss()\n",
    "optimizer = optim.Adam(model.parameters(), lr=0.001)\n",
    "\n",
    "# Convert the data to PyTorch tensors\n",
    "train_embeddings_tensor = torch.tensor(train_embeddings, dtype=torch.float32)\n",
    "train_labels_tensor = torch.tensor(train_labels, dtype=torch.long)\n",
    "test_embeddings_tensor = torch.tensor(test_embeddings, dtype=torch.float32)\n",
    "\n",
    "# Train the model\n",
    "num_epochs = 20\n",
    "epoch_loss = []\n",
    "with tqdm(total=num_epochs, desc='Epoch', unit='epoch') as pbar:\n",
    "    for epoch in range(num_epochs):\n",
    "        optimizer.zero_grad()\n",
    "        outputs = model(train_embeddings_tensor)\n",
    "        loss = criterion(outputs, train_labels_tensor)\n",
    "        loss.backward()\n",
    "        optimizer.step()\n",
    "\n",
    "        epoch_loss.append(loss.item())\n",
    "\n",
    "        pbar.set_postfix({'Train Loss': epoch_loss[-1]})\n",
    "        pbar.update()\n",
    "\n",
    "# Evaluate the model\n",
    "with torch.no_grad():\n",
    "    model.eval()\n",
    "    outputs = model(test_embeddings_tensor)\n",
    "    _, predicted_labels = torch.max(outputs, 1)\n",
    "\n",
    "\n",
    "# Convert the tensors to numpy arrays\n",
    "predicted_labels = predicted_labels.numpy()\n",
    "true_labels = np.array(test_labels)\n",
    "\n",
    "# Calculate the accuracy score\n",
    "accuracy_nn = accuracy_score(true_labels, predicted_labels)\n",
    "print(\"Accuracy score for Neural Network: \", accuracy_nn)\n"
   ]
  }
 ],
 "metadata": {
  "kernelspec": {
   "display_name": "venv",
   "language": "python",
   "name": "python3"
  },
  "language_info": {
   "codemirror_mode": {
    "name": "ipython",
    "version": 3
   },
   "file_extension": ".py",
   "mimetype": "text/x-python",
   "name": "python",
   "nbconvert_exporter": "python",
   "pygments_lexer": "ipython3",
   "version": "3.10.11"
  },
  "orig_nbformat": 4
 },
 "nbformat": 4,
 "nbformat_minor": 2
}
